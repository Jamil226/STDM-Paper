{
  "nbformat": 4,
  "nbformat_minor": 0,
  "metadata": {
    "colab": {
      "provenance": []
    },
    "kernelspec": {
      "name": "python3",
      "display_name": "Python 3"
    },
    "language_info": {
      "name": "python"
    }
  },
  "cells": [
    {
      "cell_type": "markdown",
      "source": [
        "## **Device Auth**"
      ],
      "metadata": {
        "id": "y7ciGOIdWoZZ"
      }
    },
    {
      "cell_type": "code",
      "execution_count": 8,
      "metadata": {
        "colab": {
          "base_uri": "https://localhost:8080/"
        },
        "id": "a34xn2WSQSnm",
        "outputId": "11edf05c-fc94-4081-f512-94933edbf738"
      },
      "outputs": [
        {
          "output_type": "stream",
          "name": "stdout",
          "text": [
            "Using timestamp_device: 1750155918\n",
            "Concatenated data for HMAC: DyAflnJ3ap70XTZaLjEzaZjNT1OaQAeb1750155918\n",
            "Client HMAC (hmac_client): dbfae159f21a2fd4c4f02584bdbca17d1cff36390dbfb59fdb3ba36e6e82bcd4\n"
          ]
        }
      ],
      "source": [
        "import hmac\n",
        "import hashlib\n",
        "import time\n",
        "\n",
        "device_id = \"DyAflnJ3ap70XTZa\"\n",
        "nonce_device = \"LjEzaZjNT1OaQAeb\"\n",
        "secret_token_s = \"R3xyvsBKI055EUJkrddBUlkexqJkhjKk7CEITfc4rLEaeCTPo3SOW2edPMQ4U1Io\"\n",
        "\n",
        "timestamp_device = int(time.time())\n",
        "print(f\"Using timestamp_device: {timestamp_device}\")\n",
        "\n",
        "hmac_data_to_hash = device_id + nonce_device + str(timestamp_device)\n",
        "\n",
        "hmac_client = hmac.new(\n",
        "    secret_token_s.encode('utf-8'),\n",
        "    hmac_data_to_hash.encode('utf-8'),\n",
        "    hashlib.sha256\n",
        ").hexdigest()\n",
        "\n",
        "print(f\"Concatenated data for HMAC: {hmac_data_to_hash}\")\n",
        "print(f\"Client HMAC (hmac_client): {hmac_client}\")\n"
      ]
    },
    {
      "cell_type": "markdown",
      "source": [
        "## **Telemetry message**"
      ],
      "metadata": {
        "id": "qpK6OvX7W5Ns"
      }
    },
    {
      "cell_type": "code",
      "source": [
        "import hmac\n",
        "import hashlib\n",
        "import time\n",
        "import secrets\n",
        "import json\n",
        "\n",
        "\n",
        "device_id = \"DyAflnJ3ap70XTZa\"\n",
        "secret_token_s = \"R3xyvsBKI055EUJkrddBUlkexqJkhjKk7CEITfc4rLEaeCTPo3SOW2edPMQ4U1Io\"\n",
        "\n",
        "payload_dict = {\"temperature\":25.5,\"humidity\":60,\"status\":\"active\"}\n",
        "\n",
        "payload_data = json.dumps(payload_dict, separators=(',', ':'))\n",
        "\n",
        "nonce_telemetry = secrets.token_hex(16)\n",
        "timestamp_telemetry = int(time.time())\n",
        "\n",
        "print(f\"\\\"device_id\\\": \\\"{device_id}\\\",\")\n",
        "print(f\"\\\"session_token\\\": \\\"<YOUR_SESSION_TOKEN_FROM_AUTH_API_RESPONSE>\\\",\")\n",
        "print(f\"\\\"payload\\\": \\\"{payload_data}\\\",\")\n",
        "print(f\"\\\"nonce_telemetry\\\": \\\"{nonce_telemetry}\\\",\")\n",
        "print(f\"\\\"timestamp_telemetry\\\": {timestamp_telemetry},\")\n",
        "\n",
        "hmac_data_to_hash = device_id + payload_data + nonce_telemetry + str(timestamp_telemetry)\n",
        "\n",
        "print(f\"Concatenated data for Telemetry HMAC: {hmac_data_to_hash}\")\n",
        "\n",
        "hmac_telemetry = hmac.new(\n",
        "    secret_token_s.encode('utf-8'),\n",
        "    hmac_data_to_hash.encode('utf-8'),\n",
        "    hashlib.sha256\n",
        ").hexdigest()\n",
        "\n",
        "print(f\"\\\"hmac\\\": \\\"{hmac_telemetry}\\\"\")\n"
      ],
      "metadata": {
        "colab": {
          "base_uri": "https://localhost:8080/"
        },
        "id": "ByH1e2lSWl-M",
        "outputId": "f90696b9-7091-43af-86e5-b8fa64c56737"
      },
      "execution_count": 11,
      "outputs": [
        {
          "output_type": "stream",
          "name": "stdout",
          "text": [
            "\"device_id\": \"DyAflnJ3ap70XTZa\",\n",
            "\"session_token\": \"<YOUR_SESSION_TOKEN_FROM_AUTH_API_RESPONSE>\",\n",
            "\"payload\": \"{\"temperature\":25.5,\"humidity\":60,\"status\":\"active\"}\",\n",
            "\"nonce_telemetry\": \"c6a599a7db1d4a6065be660a292a563b\",\n",
            "\"timestamp_telemetry\": 1750155956,\n",
            "Concatenated data for Telemetry HMAC: DyAflnJ3ap70XTZa{\"temperature\":25.5,\"humidity\":60,\"status\":\"active\"}c6a599a7db1d4a6065be660a292a563b1750155956\n",
            "\"hmac\": \"44133f708502f98c127e721e00c90f396a8bf4521a08e0675f7561af22469fb6\"\n"
          ]
        }
      ]
    },
    {
      "cell_type": "code",
      "source": [],
      "metadata": {
        "id": "fJqURgu4XqAN"
      },
      "execution_count": 4,
      "outputs": []
    }
  ]
}